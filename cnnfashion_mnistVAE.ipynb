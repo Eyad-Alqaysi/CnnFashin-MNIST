{
  "nbformat": 4,
  "nbformat_minor": 0,
  "metadata": {
    "colab": {
      "provenance": []
    },
    "kernelspec": {
      "name": "python3",
      "display_name": "Python 3"
    },
    "language_info": {
      "name": "python"
    },
    "accelerator": "GPU",
    "gpuClass": "standard"
  },
  "cells": [
    {
      "cell_type": "code",
      "execution_count": 1,
      "metadata": {
        "id": "TLW1J8EnzEur",
        "colab": {
          "base_uri": "https://localhost:8080/"
        },
        "outputId": "ffaf7044-ca3d-4fdd-c720-ebcbd646daeb"
      },
      "outputs": [
        {
          "output_type": "stream",
          "name": "stdout",
          "text": [
            "--2023-01-18 10:53:01--  https://www.dropbox.com/s/tzs174hrjs1rbzs/FashionMNIST.zip?dl=0\n",
            "Resolving www.dropbox.com (www.dropbox.com)... 162.125.81.18, 2620:100:6031:18::a27d:5112\n",
            "Connecting to www.dropbox.com (www.dropbox.com)|162.125.81.18|:443... connected.\n",
            "HTTP request sent, awaiting response... 302 Found\n",
            "Location: /s/raw/tzs174hrjs1rbzs/FashionMNIST.zip [following]\n",
            "--2023-01-18 10:53:01--  https://www.dropbox.com/s/raw/tzs174hrjs1rbzs/FashionMNIST.zip\n",
            "Reusing existing connection to www.dropbox.com:443.\n",
            "HTTP request sent, awaiting response... 302 Found\n",
            "Location: https://ucd245d867543694dad6a3853c06.dl-eu.dropboxusercontent.com/cd/0/inline/B0zss_7a09f0wIMbesCAhqxqnEjjNcFeovpTHDrMTCFJ5Rpbd1A2B9hCeE4XUAV7_LXZm79c7uxlTHRUHHK77uch5Q5mequz7z-4FUIPAfgG4HQMsdGaqvpX1XqqR7W7ECcfT_rdf6tPD0QfTFafKRAgWkfOxNLqrjsNzJ7W9aXhJw/file# [following]\n",
            "--2023-01-18 10:53:02--  https://ucd245d867543694dad6a3853c06.dl-eu.dropboxusercontent.com/cd/0/inline/B0zss_7a09f0wIMbesCAhqxqnEjjNcFeovpTHDrMTCFJ5Rpbd1A2B9hCeE4XUAV7_LXZm79c7uxlTHRUHHK77uch5Q5mequz7z-4FUIPAfgG4HQMsdGaqvpX1XqqR7W7ECcfT_rdf6tPD0QfTFafKRAgWkfOxNLqrjsNzJ7W9aXhJw/file\n",
            "Resolving ucd245d867543694dad6a3853c06.dl-eu.dropboxusercontent.com (ucd245d867543694dad6a3853c06.dl-eu.dropboxusercontent.com)... 162.125.7.15, 2620:100:6031:15::a27d:510f\n",
            "Connecting to ucd245d867543694dad6a3853c06.dl-eu.dropboxusercontent.com (ucd245d867543694dad6a3853c06.dl-eu.dropboxusercontent.com)|162.125.7.15|:443... connected.\n",
            "HTTP request sent, awaiting response... 302 Found\n",
            "Location: /cd/0/inline2/B0zxcYWZ2-La2iZutdEG9rk77HSTDnSdx7Mbo0LdGFzPTHT-EY-kSCqOZKaIHL0NSog_7jZkq6G0huCNinPysyaJYVM3vSeODV7RGy1RfPy43dSQ1i9yIPVoZPWZRjwSfI-N6yNygvpn_NKLRMz13mroO7B0MWCVJdVp51ULnPQ-akUSYoLME7RL7YhveLlJAK8xbUYD2gaQ2CFxWDtVaJLYsAi7gfAW4sujt5tirjOqUJj2wpUMQJzMiOOSIRUwlM9XyesKXCKqwMnlgKv4Yy-zMPK-10ZKCLXja1TsiEixLcGLRPfYXGvKdXaCXK9KY693u4oRO0n9OnbHmXU5pWW1Eqp08W4IFnDmZDqMrENWDHxXl4gy7NxbOlP2s_garTmNYvrD-u8ygWu04qCY84uiAHMLSiunkErJVVOMjTIbVQ/file [following]\n",
            "--2023-01-18 10:53:04--  https://ucd245d867543694dad6a3853c06.dl-eu.dropboxusercontent.com/cd/0/inline2/B0zxcYWZ2-La2iZutdEG9rk77HSTDnSdx7Mbo0LdGFzPTHT-EY-kSCqOZKaIHL0NSog_7jZkq6G0huCNinPysyaJYVM3vSeODV7RGy1RfPy43dSQ1i9yIPVoZPWZRjwSfI-N6yNygvpn_NKLRMz13mroO7B0MWCVJdVp51ULnPQ-akUSYoLME7RL7YhveLlJAK8xbUYD2gaQ2CFxWDtVaJLYsAi7gfAW4sujt5tirjOqUJj2wpUMQJzMiOOSIRUwlM9XyesKXCKqwMnlgKv4Yy-zMPK-10ZKCLXja1TsiEixLcGLRPfYXGvKdXaCXK9KY693u4oRO0n9OnbHmXU5pWW1Eqp08W4IFnDmZDqMrENWDHxXl4gy7NxbOlP2s_garTmNYvrD-u8ygWu04qCY84uiAHMLSiunkErJVVOMjTIbVQ/file\n",
            "Reusing existing connection to ucd245d867543694dad6a3853c06.dl-eu.dropboxusercontent.com:443.\n",
            "HTTP request sent, awaiting response... 200 OK\n",
            "Length: 72114846 (69M) [application/zip]\n",
            "Saving to: ‘data.zip’\n",
            "\n",
            "data.zip            100%[===================>]  68.77M  10.1MB/s    in 7.5s    \n",
            "\n",
            "2023-01-18 10:53:13 (9.17 MB/s) - ‘data.zip’ saved [72114846/72114846]\n",
            "\n",
            "Archive:  data.zip\n",
            "  inflating: fashion-mnist_test.csv  \n",
            "  inflating: fashion-mnist_train.csv  \n",
            "  inflating: t10k-images-idx3-ubyte  \n",
            "  inflating: t10k-labels-idx1-ubyte  \n",
            "  inflating: train-images-idx3-ubyte  \n",
            "  inflating: train-labels-idx1-ubyte  \n"
          ]
        }
      ],
      "source": [
        "!wget -O data.zip https://www.dropbox.com/s/tzs174hrjs1rbzs/FashionMNIST.zip?dl=0\n",
        "!unzip data.zip"
      ]
    },
    {
      "cell_type": "code",
      "source": [
        "import torch\n",
        "import torch.nn as nn\n",
        "import torch.nn.functional as F\n",
        "import torch.optim as optim\n",
        "import numpy as np\n",
        "import matplotlib.pyplot as plt\n",
        "import pandas as pd\n",
        "\n",
        "from torch.utils.data import Dataset, DataLoader\n",
        "from torchvision import models,transforms"
      ],
      "metadata": {
        "id": "bsJKHdwRZfDL"
      },
      "execution_count": 2,
      "outputs": []
    },
    {
      "cell_type": "code",
      "source": [
        "class MyDatasetcsv(Dataset):\n",
        "  def __init__(self,path,trans = None) -> None:\n",
        "     super().__init__() \n",
        "     self.data = pd.read_csv(path).to_numpy() \n",
        "     self.image =self.data[:,1:]\n",
        "     self.labels =self.data[:,0]\n",
        "     self.trans = trans\n",
        "\n",
        "  def __len__(self):\n",
        "    return self.data.shape[0] \n",
        "    \n",
        "  def __getitem__ (self,index):\n",
        "    im = self.image[index,:]\n",
        "    label = self.labels[index]\n",
        "    im = np.reshape(im,(28,28))/255\n",
        "    if self.trans :\n",
        "      im = self.trans(im)\n",
        "    return (im, label)"
      ],
      "metadata": {
        "id": "oH6n0qQHZkWf"
      },
      "execution_count": 3,
      "outputs": []
    },
    {
      "cell_type": "code",
      "source": [
        "!ls "
      ],
      "metadata": {
        "colab": {
          "base_uri": "https://localhost:8080/"
        },
        "id": "ppzZjsUXaxIW",
        "outputId": "b4761106-1a17-4432-fcf1-16fcde114373"
      },
      "execution_count": 4,
      "outputs": [
        {
          "output_type": "stream",
          "name": "stdout",
          "text": [
            "data.zip\t\t sample_data\t\t train-images-idx3-ubyte\n",
            "fashion-mnist_test.csv\t t10k-images-idx3-ubyte  train-labels-idx1-ubyte\n",
            "fashion-mnist_train.csv  t10k-labels-idx1-ubyte\n"
          ]
        }
      ]
    },
    {
      "cell_type": "code",
      "source": [
        "train_dataset = MyDatasetcsv(\"fashion-mnist_train.csv\",\n",
        "                        transforms.Compose([\n",
        "                          transforms.ToTensor(),\n",
        "                          # transforms.RandomCrop(28, padding=4),\n",
        "                          # transforms.RandomAffine(30),\n",
        "                          # transforms.ColorJitter(brightness=(0.1,0.6), contrast=1,saturation=0, hue=0.4),\n",
        "                          # transforms.RandomPerspective()\n",
        "                          \n",
        "                    ])\n",
        ")\n",
        "test_dataset = MyDatasetcsv(\"fashion-mnist_test.csv\")"
      ],
      "metadata": {
        "id": "wPSfqWqgaOM1"
      },
      "execution_count": 5,
      "outputs": []
    },
    {
      "cell_type": "code",
      "source": [
        "train_loader = DataLoader(train_dataset, batch_size=64, shuffle=True)\n",
        "test_loader = DataLoader(test_dataset, batch_size=64, shuffle=True)"
      ],
      "metadata": {
        "id": "JE89OEK0bBjL"
      },
      "execution_count": 6,
      "outputs": []
    },
    {
      "cell_type": "code",
      "source": [
        "batch = next(iter(train_loader))\n",
        "batch[0].shape"
      ],
      "metadata": {
        "colab": {
          "base_uri": "https://localhost:8080/"
        },
        "id": "VJ3exnUAd80E",
        "outputId": "e5f3f21f-187b-4184-f905-e92d31c65931"
      },
      "execution_count": 7,
      "outputs": [
        {
          "output_type": "execute_result",
          "data": {
            "text/plain": [
              "torch.Size([64, 1, 28, 28])"
            ]
          },
          "metadata": {},
          "execution_count": 7
        }
      ]
    },
    {
      "cell_type": "code",
      "source": [
        "plt.imshow(batch[0][30][0])"
      ],
      "metadata": {
        "colab": {
          "base_uri": "https://localhost:8080/",
          "height": 302
        },
        "id": "b6bsKG_igFgK",
        "outputId": "782cf148-3741-45ca-b450-b3ac5ce89d9b"
      },
      "execution_count": 10,
      "outputs": [
        {
          "output_type": "execute_result",
          "data": {
            "text/plain": [
              "<matplotlib.image.AxesImage at 0x7f7ec9f779d0>"
            ]
          },
          "metadata": {},
          "execution_count": 10
        },
        {
          "output_type": "display_data",
          "data": {
            "text/plain": [
              "<Figure size 432x288 with 1 Axes>"
            ],
            "image/png": "[encoded data removed]"
          },
          "metadata": {
            "needs_background": "light"
          }
        }
      ]
    },
    {
      "cell_type": "code",
      "source": [],
      "metadata": {
        "id": "nnuRq12zbk62"
      },
      "execution_count": 415,
      "outputs": []
    },
    {
      "cell_type": "code",
      "source": [],
      "metadata": {
        "id": "jRRsZ0VZc-Ng"
      },
      "execution_count": 415,
      "outputs": []
    },
    {
      "cell_type": "markdown",
      "source": [
        "## .."
      ],
      "metadata": {
        "id": "64iVQ1IVUsGY"
      }
    },
    {
      "cell_type": "code",
      "source": [],
      "metadata": {
        "id": "lyJHsbaGUt0X"
      },
      "execution_count": 415,
      "outputs": []
    },
    {
      "cell_type": "markdown",
      "source": [
        "## ..."
      ],
      "metadata": {
        "id": "BSW2cm-XUu9u"
      }
    },
    {
      "cell_type": "code",
      "source": [
        "class AutoEncoder(nn.Module):\n",
        "    def __init__(self,nz):\n",
        "        super(AutoEncoder, self).__init__()\n",
        "        print(nz)\n",
        "        # Encoder---------------\n",
        "        #(1,28,28)\n",
        "        self.econv1 = nn.Conv2d(1,16,3,2,1) \n",
        "        self.ebn1 = nn.BatchNorm2d(16)\n",
        "        #(16,14,14)\n",
        "\n",
        "        self.econv2 = nn.Conv2d(16,32,3,2,1) \n",
        "        self.ebn2 = nn.BatchNorm2d(32)\n",
        "        #(32,7,7)\n",
        "\n",
        "        self.econv3 = nn.Conv2d(32,64,3,2,1) \n",
        "        self.ebn3 = nn.BatchNorm2d(64)\n",
        "\n",
        "        #(64,4,4)\n",
        "\n",
        "        self.e1 = nn.Linear(4*4*64,64)\n",
        "        self.e2 = nn.Linear(64,nz)\n",
        "        \n",
        "        # params layer---------------\n",
        "        self.pr1 = nn.Linear(nz, nz)\n",
        "        self.pr2 = nn.Linear(nz, nz)\n",
        "\n",
        "        # Decoder---------------\n",
        "        self.d1 = nn.Linear(nz, 64)\n",
        "        self.dbn1 = nn.BatchNorm2d(64)\n",
        "\n",
        "        self.d2 = nn.Linear(64,4*4*64)\n",
        "        self.dbn1 = nn.BatchNorm2d(64*4*4)\n",
        "        \n",
        "        self.dconv1 = nn.ConvTranspose2d(64,32,3,2,1) \n",
        "        self.dbn3 = nn.BatchNorm2d(32)\n",
        "\n",
        "        self.dconv2 = nn.ConvTranspose2d(32,16,3,2,1,output_padding=1)\n",
        "        self.dbn4 = nn.BatchNorm2d(16)\n",
        "\n",
        "        self.dconv3 = nn.ConvTranspose2d(16,1,3,2,1,output_padding=1)\n",
        "        \n",
        "\n",
        "'''---------------------------encoder------------------------------'''\n",
        "    def encoder(self,x):\n",
        "        # print('1ec',x.shape)\n",
        "        x = torch.relu(self.econv1(x))\n",
        "        x = self.ebn1(x) #torch.Size([64, 16, 14, 14])\n",
        "\n",
        "        # print('2ec',x.shape)\n",
        "        x = torch.relu(self.econv2(x))\n",
        "        x = self.ebn2(x) #torch.Size([64, 32, 7, 7])\n",
        "\n",
        "        # print('3ec',x.shape)\n",
        "        x = torch.relu(self.econv3(x))\n",
        "        x = self.ebn3(x) #torch.Size([64, 64, 4, 4])\n",
        "        print(x.shape)\n",
        "        x = x.view(-1,64*4*4)\n",
        "        #x = x.view(-1,x.size(1)*x.size(2)*x.size(3))\n",
        "\n",
        "\n",
        "        # x = x.view(4*4*64,-1)\n",
        "        x = torch.relu(self.e1(x))\n",
        "        x = torch.sigmoid(self.e2(x))\n",
        "        return x\n",
        "\n",
        "\n",
        "'''----------------------------getparams-----------------------------'''\n",
        "    def get_params(self, x):\n",
        "      mu = self.pr1(x)\n",
        "      logvar = self.pr2(x)\n",
        "      return (mu, logvar)\n",
        "'''--------------------------repram-------------------------------'''\n",
        "\n",
        "    def reparm(self, mu, logvar):\n",
        "      eps = torch.randn(mu.shape).to(device)\n",
        "      z = mu + eps* torch.exp(0.5*logvar)\n",
        "      return z\n",
        "'''---------------------------decoder------------------------------'''\n",
        "    def decoder(self,x):\n",
        "        x = torch.relu(self.d1(x))\n",
        "       \n",
        "        x = torch.relu(self.d2(x))\n",
        "     \n",
        "        # print(x.shape)\n",
        "        x = x.view(-1,64 ,4 ,4 )\n",
        "        x = torch.relu(self.dconv1(x)) #torch.Size([64, 32, 7, 7])\n",
        "        x = self.dbn3(x) \n",
        "        \n",
        "        x = torch.relu(self.dconv2(x)) #torch.Size([64, 16, 14, 14])\n",
        "        x = self.dbn4(x) \n",
        "        \n",
        "        x = torch.sigmoid(self.dconv3(x))\n",
        "        return x\n",
        "\n",
        "    def forward(self,x):\n",
        "      x = self.encoder(x)\n",
        "      mu, logvar = self.get_params(x)\n",
        "      z = self.reparm(mu, logvar)\n",
        "      x = self.decoder(z)\n",
        "      return (z, mu, logvar, x)\n",
        "\n",
        "\n",
        "    "
      ],
      "metadata": {
        "id": "D6y3kSqA6SPx"
      },
      "execution_count": 462,
      "outputs": []
    },
    {
      "cell_type": "code",
      "source": [],
      "metadata": {
        "id": "D29XuDN5SMdh"
      },
      "execution_count": 462,
      "outputs": []
    },
    {
      "cell_type": "code",
      "source": [
        "\n",
        "x, y = next(iter(train_loader))\n",
        "x = x.type(torch.FloatTensor).to(device)\n"
      ],
      "metadata": {
        "id": "oXDRtIUO9HmI"
      },
      "execution_count": 464,
      "outputs": []
    },
    {
      "cell_type": "code",
      "source": [
        "\n",
        "def vae_loss(xhat, x, mu, logvar):\n",
        "  KL_WEIGHT = 0.0012\n",
        "  recon_loss = F.mse_loss(xhat, x)\n",
        "  kl_loss = torch.mean(torch.sum(-0.5*(1+logvar - torch.exp(logvar) - mu*mu), axis =1), axis =0)\n",
        "  return (1-KL_WEIGHT)*recon_loss + (KL_WEIGHT)*kl_loss"
      ],
      "metadata": {
        "id": "JQodDEOq9KEX"
      },
      "execution_count": 482,
      "outputs": []
    },
    {
      "cell_type": "code",
      "source": [
        "device = torch.device(\"cuda:0\")\n",
        "\n",
        "nz = 32\n",
        "net = AutoEncoderConv(nz).to(device)\n",
        "num_epochs = 20\n",
        "lr = 1e-4\n",
        "mm = 0.5\n",
        "\n",
        "optimizer = optim.Adam(net.parameters(), lr = lr)\n",
        "ls = []\n",
        "for i in range(num_epochs):\n",
        "  total_loss = 0\n",
        "  for batch in train_loader:\n",
        "    X = batch[0].type(torch.FloatTensor).to(device)\n",
        "    Z, mu, logvar, Xhat = net(X)\n",
        "    loss = vae_loss(Xhat, X, mu, logvar)\n",
        "    optimizer.zero_grad()\n",
        "    loss.backward()\n",
        "    optimizer.step()\n",
        "    total_loss+=loss.item()\n",
        "  ls.append(total_loss/len(train_loader))\n",
        "plt.plot(ls)"
      ],
      "metadata": {
        "colab": {
          "base_uri": "https://localhost:8080/",
          "height": 302
        },
        "id": "2vZEoiJy65pF",
        "outputId": "3289ba56-61bf-4c62-ba51-2e01843020c5"
      },
      "execution_count": 492,
      "outputs": [
        {
          "output_type": "execute_result",
          "data": {
            "text/plain": [
              "[<matplotlib.lines.Line2D at 0x7fb8b9158070>]"
            ]
          },
          "metadata": {},
          "execution_count": 492
        },
        {
          "output_type": "display_data",
          "data": {
            "text/plain": [
              "<Figure size 432x288 with 1 Axes>"
            ],
            "image/png": "[encoded data removed]"
          },
          "metadata": {
            "needs_background": "light"
          }
        }
      ]
    },
    {
      "cell_type": "code",
      "source": [
        "x.shape"
      ],
      "metadata": {
        "colab": {
          "base_uri": "https://localhost:8080/"
        },
        "id": "kIRP3NkKEfN1",
        "outputId": "31c6250e-ae16-4905-ba35-c4af4f39a2d4"
      },
      "execution_count": 493,
      "outputs": [
        {
          "output_type": "execute_result",
          "data": {
            "text/plain": [
              "torch.Size([64, 1, 28, 28])"
            ]
          },
          "metadata": {},
          "execution_count": 493
        }
      ]
    },
    {
      "cell_type": "code",
      "source": [
        "for i in range(10):\n",
        "  plt.subplot(2, 10, i+1)\n",
        "  plt.imshow(X.cpu()[i,0,:,:])\n",
        "  plt.subplot(2,10,i+11)\n",
        "  plt.imshow(Xhat[i,0,:,:].detach().cpu().numpy())"
      ],
      "metadata": {
        "colab": {
          "base_uri": "https://localhost:8080/",
          "height": 219
        },
        "id": "S7qriOeImUoa",
        "outputId": "d2c96c0c-b069-4719-d587-179386c1b03e"
      },
      "execution_count": 494,
      "outputs": [
        {
          "output_type": "display_data",
          "data": {
            "text/plain": [
              "<Figure size 432x288 with 20 Axes>"
            ],
            "image/png": "[encoded data removed]"
          },
          "metadata": {
            "needs_background": "light"
          }
        }
      ]
    },
    {
      "cell_type": "code",
      "source": [
        "with torch.no_grad():\n",
        "  net.eval()\n",
        "  z= torch.randn(10,nz).to(device)\n",
        "\n",
        "  xgen = net.decoder(z)\n",
        "\n",
        "for i in range(5):\n",
        "  plt.subplot(1,5,i+1)\n",
        "  plt.imshow(xgen.cpu().numpy()[i,0,:,:])"
      ],
      "metadata": {
        "colab": {
          "base_uri": "https://localhost:8080/",
          "height": 130
        },
        "id": "qC6XNEJ8jCf1",
        "outputId": "94d05ad2-8ed6-48a0-9faf-17a4d0b29ea8"
      },
      "execution_count": 511,
      "outputs": [
        {
          "output_type": "display_data",
          "data": {
            "text/plain": [
              "<Figure size 432x288 with 5 Axes>"
            ],
            "image/png": "[encoded data removed]"
          },
          "metadata": {
            "needs_background": "light"
          }
        }
      ]
    },
    {
      "cell_type": "code",
      "source": [],
      "metadata": {
        "id": "dUN34IONlGHy"
      },
      "execution_count": 506,
      "outputs": []
    },
    {
      "cell_type": "code",
      "source": [],
      "metadata": {
        "id": "SV_nNspHezEm"
      },
      "execution_count": 477,
      "outputs": []
    }
  ]
}